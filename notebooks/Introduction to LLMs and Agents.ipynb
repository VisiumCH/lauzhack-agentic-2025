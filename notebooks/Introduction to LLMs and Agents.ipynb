{
 "cells": [
  {
   "cell_type": "markdown",
   "metadata": {},
   "source": [
    "# Introduction to LLMs and Agents"
   ]
  },
  {
   "cell_type": "markdown",
   "metadata": {},
   "source": [
    "Welcome to our workshop! In this session, we'll explore how to build AI-powered applications using **LangChain**, a popular framework for developing applications with Large Language Models (LLMs). We'll start with a simple chatbot and then enhance it with a multi-agent framework."
   ]
  },
  {
   "cell_type": "markdown",
   "metadata": {},
   "source": [
    "## Setting Up Our Environment"
   ]
  },
  {
   "cell_type": "markdown",
   "metadata": {},
   "source": [
    "First, we need to set up our environment. We'll use OpenAI's models, so we need an API key. You can define your `OPENAI_API_KEY` in the `.env` file.\n",
    "\n",
    "The code retrieve the key and sets some global configurations:\n",
    "- `LLM_MODEL`: The specific model we'll use\n",
    "- `LLM_TEMPERATURE`: Controls randomness in responses (0 means very deterministic)"
   ]
  },
  {
   "cell_type": "code",
   "execution_count": 22,
   "metadata": {},
   "outputs": [],
   "source": [
    "import os"
   ]
  },
  {
   "cell_type": "code",
   "execution_count": 23,
   "metadata": {},
   "outputs": [],
   "source": [
    "if not os.environ.get(\"OPENAI_API_KEY\"):\n",
    "    raise ValueError(\"Please set OPENAI_API_KEY environment variable\")\n",
    "\n",
    "LLM_MODEL = \"gpt-4o-mini\"\n",
    "LLM_TEMPERATURE = 0.9"
   ]
  },
  {
   "cell_type": "markdown",
   "metadata": {},
   "source": [
    "## Building a Simple ChatBot"
   ]
  },
  {
   "cell_type": "markdown",
   "metadata": {},
   "source": [
    "Let's start with creating a basic chatbot using **LangChain**. We'll use:\n",
    "- `ChatOpenAI`: The interface to OpenAI's chat models\n",
    "- `SystemMessage`: Defines the bot's behavior and role\n",
    "- `HumanMessage`: Represents user input\n",
    "\n",
    "Our chatbot will act as a Financial Analyst. We'll create it by:\n",
    "1. Instantiating the model\n",
    "2. Defining a system prompt that sets the bot's role\n",
    "3. Sending a user query and getting a response with `.invoke()`\n",
    "\n",
    "This demonstrates the basic pattern of LLM interactions: prompt → response."
   ]
  },
  {
   "cell_type": "code",
   "execution_count": 24,
   "metadata": {},
   "outputs": [],
   "source": [
    "from IPython.display import Markdown\n",
    "from langchain_core.messages import HumanMessage, SystemMessage\n",
    "from langchain_openai import ChatOpenAI"
   ]
  },
  {
   "cell_type": "code",
   "execution_count": 25,
   "metadata": {},
   "outputs": [],
   "source": [
    "# TODO: Create a ChatOpenAI instance with the LLM model and temperature\n",
    "base_model = ChatOpenAI(model=LLM_MODEL, temperature=LLM_TEMPERATURE)"
   ]
  },
  {
   "cell_type": "code",
   "execution_count": 32,
   "metadata": {},
   "outputs": [],
   "source": [
    "BASE_PROMPT = \"\"\"\n",
    "You are a Financial Analyst. Do your best to help the client with their request based on your expertise. Give a clear and succint financial strategy with precise numbers and allocations.\n",
    "\"\"\""
   ]
  },
  {
   "cell_type": "code",
   "execution_count": 33,
   "metadata": {},
   "outputs": [],
   "source": [
    "# Request from the client\n",
    "request = \"I'm 25 year old and have $1,000 saved. which US stocks should I invest into?\"\n",
    "\n",
    "# Message list for the base model\n",
    "messages = [\n",
    "    SystemMessage(BASE_PROMPT),\n",
    "    HumanMessage(request),\n",
    "]\n",
    "\n",
    "# Invoke the model with the messages\n",
    "response = base_model.invoke(messages)"
   ]
  },
  {
   "cell_type": "code",
   "execution_count": 34,
   "metadata": {},
   "outputs": [
    {
     "data": {
      "text/markdown": [
       "Given that you are 25 years old and have $1,000 to invest, it's important to consider a strategy that balances potential growth with risk management. Here's a recommended financial strategy:\n",
       "\n",
       "1. **Establish an Emergency Fund**: Before making investments, consider setting aside at least 3-6 months of expenses in a high-yield savings account. However, since you have $1,000, we will assume you are ready to invest.\n",
       "\n",
       "2. **Diversification**: With a small initial investment, it's crucial to diversify to mitigate risks. Consider the following allocations within your $1,000:\n",
       "\n",
       "   - **Index Funds / ETFs (60%)**: $600\n",
       "     - **Example**: SPDR S&P 500 ETF (SPY) or Vanguard Total Stock Market ETF (VTI). These funds provide broad market exposure and tend to have lower fees.\n",
       "   \n",
       "   - **Growth Stocks (30%)**: $300\n",
       "     - **Example**: Companies like Apple (AAPL), Amazon (AMZN), or Alphabet (GOOGL). These stocks have strong growth potential, but do come with higher risk.\n",
       "   \n",
       "   - **Dividend Stocks (10%)**: $100\n",
       "     - **Example**: Companies like Johnson & Johnson (JNJ) or Procter & Gamble (PG) that provide consistent dividends. These could offer stability and modest returns.\n",
       "\n",
       "3. **Investment Platform**: Use a platform with low or no trading fees (like Robinhood, M1 Finance, or Charles Schwab) to maximize your investment.\n",
       "\n",
       "4. **Dollar-Cost Averaging**: To reduce the impact of volatility, consider investing a portion of your money each month rather than all at once.\n",
       "\n",
       "5. **Continuous Learning and Reassessment**: Continue learning about investing and monitor your portfolio regularly to make adjustments based on market conditions and your financial goals.\n",
       "\n",
       "### Summary Allocation:\n",
       "- **Index Funds / ETFs**: $600\n",
       "- **Growth Stocks**: $300\n",
       "- **Dividend Stocks**: $100\n",
       "\n",
       "This balanced approach allows you to start building your portfolio with a mix of risk and stability, suitable for your age and investment horizon. Always remember to conduct your own research or consult with a financial advisor before making investment decisions."
      ],
      "text/plain": [
       "<IPython.core.display.Markdown object>"
      ]
     },
     "execution_count": 34,
     "metadata": {},
     "output_type": "execute_result"
    }
   ],
   "source": [
    "Markdown(response.content)"
   ]
  },
  {
   "cell_type": "markdown",
   "metadata": {},
   "source": [
    "## Agentic system"
   ]
  },
  {
   "cell_type": "markdown",
   "metadata": {},
   "source": [
    "We will now create a simple agentic system consisting of three agents using LangChain.\n",
    "This system will help us perform a more elaborate financial analysis by including:\n",
    "\n",
    "- Client Interface Agent: Rephrases the user’s prompt to improve the quality of the financial analyst’s response.\n",
    "\n",
    "- Financial Analyst: Similar to the first part; provides financial advice based on the refined prompt.\n",
    "\n",
    "- Risk Advisor: Assesses the risk associated with the advice given by the financial analyst."
   ]
  },
  {
   "cell_type": "code",
   "execution_count": 35,
   "metadata": {},
   "outputs": [
    {
     "name": "stdout",
     "output_type": "stream",
     "text": [
      "\n",
      "🤖 Client Interface:\n",
      " A 25-year-old individual has $1,000 in savings and is seeking recommendations for U.S. stocks to invest in.\n",
      "\n",
      "📈 Financial Analyst:\n",
      " As a financial analyst providing investment recommendations, I’ll suggest a few U.S. stocks that have shown potential for growth. While it's important to conduct further research and consider diversifying investments, here are several options that a 25-year-old investor with $1,000 might consider:\n",
      "\n",
      "1. **Technology Stocks**:\n",
      "   - **Apple Inc. (AAPL)**: A well-established tech company with a strong product ecosystem that includes hardware, software, and services. Historically, Apple has shown consistent growth and innovation.\n",
      "   - **Microsoft Corporation (MSFT)**: A leader in software, cloud computing, and gaming. Microsoft has a solid financial base and a strong presence in various markets.\n",
      "\n",
      "2. **Consumer Discretionary Stocks**:\n",
      "   - **Amazon.com, Inc. (AMZN)**: A dominant player in e-commerce and cloud computing (AWS). Amazon has a history of expanding into new markets and innovating its product offerings.\n",
      "   - **Nike, Inc. (NKE)**: A leading athletic footwear and apparel company with a strong brand presence. Nike continues to grow through online sales and international markets.\n",
      "\n",
      "3. **Healthcare Stocks**:\n",
      "   - **Johnson & Johnson (JNJ)**: A diversified healthcare company with a strong portfolio in pharmaceuticals, medical devices, and consumer health products. Known for stability and dividends.\n",
      "   - **Pfizer Inc. (PFE)**: A major pharmaceutical company that has contributed significantly to healthcare advancements, including vaccines. It often offers growth potential due to its research and development pipeline.\n",
      "\n",
      "4. **Renewable Energy Stocks**:\n",
      "   - **NextEra Energy, Inc. (NEE)**: A leader in renewable energy from wind and solar projects. With the growing focus on sustainability, NextEra is positioned well for future growth.\n",
      "   - **SolarEdge Technologies, Inc. (SEDG)**: A key player in the solar energy sector, providing inverters and other products for solar installations.\n",
      "\n",
      "5. **Exchange-Traded Funds (ETFs)**:\n",
      "   - If the individual prefers diversification, consider ETFs like the **SPDR S&P 500 ETF Trust (SPY)**, which tracks the S&P 500 index. This provides exposure to a broad range of U.S. companies across various sectors.\n",
      "   - **Invesco QQQ Trust (QQQ)** is another option that focuses on the tech-heavy Nasdaq-100 index, providing exposure to leading technology companies.\n",
      "\n",
      "### Investment Strategy:\n",
      "- **Dollar-Cost Averaging**: Consider investing the $1,000 in smaller increments over time rather than all at once. This strategy can help mitigate timing risk.\n",
      "- **Long-Term Perspective**: As a young investor, focusing on long-term growth rather than short-term gains is advisable. \n",
      "\n",
      "### Important Note:\n",
      "Before making any investments, the individual should conduct personal research and consider consulting with a financial advisor to align investments with their personal financial goals and situation.\n",
      "\n",
      "⚠️ Risk Advisor:\n",
      " Evaluating the investment recommendations provided from a risk perspective is essential for ensuring that the investor, particularly a young one with limited capital, makes informed decisions. Here are some cautions and strategies to mitigate risk associated with the suggested investments:\n",
      "\n",
      "### Cautions\n",
      "\n",
      "1. **Concentration Risk**: Investing in individual stocks (like Apple, Microsoft, Amazon, etc.) can lead to concentration risk, where the portfolio is heavily reliant on a few companies. If any of these companies face significant challenges, the investor could experience substantial losses.\n",
      "\n",
      "2. **Market Volatility**: Technology and consumer discretionary sectors can be particularly volatile. Stock prices may fluctuate significantly based on market sentiment, economic indicators, or company-specific news.\n",
      "\n",
      "3. **Sector-Specific Risks**: Different sectors have their own unique risks. For example, healthcare stocks can be affected by regulatory changes, while renewable energy stocks may face challenges related to policy shifts or technological advancements.\n",
      "\n",
      "4. **Long-Term Perspective Risks**: While a long-term investment strategy is advisable, it is essential to recognize that market downturns can occur, and the investor may need to reassess their strategy if they face financial pressure or significant short-term losses.\n",
      "\n",
      "5. **Over-reliance on Technology**: With a recommendation heavily weighted towards technology, there’s a risk of being out of balance if market conditions shift away from tech-heavy investments.\n",
      "\n",
      "6. **Economic Environment**: Inflation, interest rate changes, and other macroeconomic factors can impact stock performance. For instance, rising interest rates may negatively affect tech stocks, which are often valued on future earnings potential.\n",
      "\n",
      "### Ways to Reduce Risk\n",
      "\n",
      "1. **Diversification**: Encourage the investor to diversify their portfolio across various sectors beyond those mentioned. Including sectors like consumer staples, utilities, or financials can reduce the overall risk by spreading exposure.\n",
      "\n",
      "2. **Consider Index Funds or ETFs**: Investing in ETFs like SPY or QQQ can provide built-in diversification and reduce individual stock risk. A total stock market ETF could also be considered for broader exposure.\n",
      "\n",
      "3. **Rebalance Regularly**: Advise the investor to periodically review and rebalance their portfolio to ensure it aligns with their risk tolerance and investment goals. This can help manage concentration risk and maintain desired asset allocation.\n",
      "\n",
      "4. **Set Stop-Loss Orders**: For individual stocks, consider implementing stop-loss orders, which automatically sell a stock if it drops below a certain price, limiting potential losses.\n",
      "\n",
      "5. **Education and Research**: Encourage ongoing education about the stock market and individual investments. Staying informed about market trends, company performance, and economic conditions can help the investor make better decisions.\n",
      "\n",
      "6. **Use Dollar-Cost Averaging Wisely**: While dollar-cost averaging can reduce the impact of volatility, it’s essential to be aware of market conditions. If the market is in a prolonged downturn, consider whether to continue purchasing or wait for a more favorable environment.\n",
      "\n",
      "7. **Emergency Fund**: Ensure the investor has an emergency fund separate from their investment portfolio. This fund can provide financial stability and reduce the need to sell investments during market downturns.\n",
      "\n",
      "8. **Consult Financial Advisors**: While the advice suggests consulting a financial advisor, doing so before making major investments or strategies can provide tailored guidance that considers the investor's unique financial situation, goals, and risk tolerance.\n",
      "\n",
      "By recognizing these cautions and implementing strategies to mitigate risk, the young investor can make more informed investment decisions while still pursuing growth opportunities in the market.\n"
     ]
    }
   ],
   "source": [
    "from langchain.prompts import PromptTemplate\n",
    "from langchain_core.output_parsers import StrOutputParser\n",
    "\n",
    "# Load LLM\n",
    "llm = ChatOpenAI(model=LLM_MODEL, temperature=LLM_TEMPERATURE)\n",
    "\n",
    "# Agent Prompts\n",
    "client_prompt = PromptTemplate.from_template(\n",
    "    \"You are a Client Interface agent. A user has asked the following question:\\n{user_query}\\n\"\n",
    "    \"Rephrase it clearly for a financial analyst.\"\n",
    ")\n",
    "analyst_prompt = PromptTemplate.from_template(\n",
    "    \"You are a Financial Analyst. The client asked: {client_rephrased_query}\\n\"\n",
    "    \"Give clear investment advice. Do not assess risk.\"\n",
    ")\n",
    "risk_prompt = PromptTemplate.from_template(\n",
    "    \"You are a Risk Advisor. The analyst has recommended:\\n{analyst_advice}\\n\"\n",
    "    \"Evaluate this advice from a risk perspective. Offer any cautions and ways to reduce risk.\"\n",
    ")\n",
    "\n",
    "# Define Chains\n",
    "client_chain = client_prompt | llm | StrOutputParser()\n",
    "analyst_chain = analyst_prompt | llm | StrOutputParser()\n",
    "risk_chain = risk_prompt | llm | StrOutputParser()\n",
    "\n",
    "# Simulate user question\n",
    "user_query = \"I'm 25 year old and have $1,000 saved. which US stocks should I invest into?\"\n",
    "\n",
    "# Step 1: Client Interface processes input\n",
    "client_rephrased_query = client_chain.invoke(user_query)\n",
    "print(\"\\n🤖 Client Interface:\\n\", client_rephrased_query)\n",
    "\n",
    "# Step 2: Financial Analyst responds\n",
    "analyst_advice = analyst_chain.invoke(client_rephrased_query)\n",
    "print(\"\\n📈 Financial Analyst:\\n\", analyst_advice)\n",
    "\n",
    "# Step 3: Risk Advisor evaluates\n",
    "risk_evaluation = risk_chain.invoke(analyst_advice)\n",
    "print(\"\\n⚠️ Risk Advisor:\\n\", risk_evaluation)"
   ]
  },
  {
   "cell_type": "code",
   "execution_count": 36,
   "metadata": {},
   "outputs": [
    {
     "name": "stdout",
     "output_type": "stream",
     "text": [
      "\n",
      "⚖️ Summary:\n",
      " Here’s a clear and succinct financial strategy for your $1,000 investment, considering diversification, risk management, and a long-term growth perspective:\n",
      "\n",
      "### Investment Strategy Overview\n",
      "\n",
      "1. **Investment Amount**: $1,000\n",
      "\n",
      "2. **Allocation Breakdown**:\n",
      "   - **ETFs (Broad Market Exposure)**: 50% ($500)\n",
      "     - **Vanguard Total Stock Market ETF (VTI)**: $250\n",
      "     - **SPDR S&P 500 ETF Trust (SPY)**: $250\n",
      "   - **Individual Stocks**: 30% ($300)\n",
      "     - **Apple Inc. (AAPL)**: $100\n",
      "     - **Microsoft Corporation (MSFT)**: $100\n",
      "     - **Coca-Cola Company (KO)**: $100\n",
      "   - **Sector-Specific Stocks**: 10% ($100)\n",
      "     - **NextEra Energy, Inc. (NEE)**: $50\n",
      "     - **Johnson & Johnson (JNJ)**: $50\n",
      "   - **Cash Reserve / Emergency Fund**: 10% ($100)\n",
      "     - Keep in a high-yield savings account for liquidity.\n",
      "\n",
      "### Rationale Behind the Allocation:\n",
      "\n",
      "1. **Diversification**: \n",
      "   - Allocating primarily to ETFs (50%) provides broad market exposure, reducing the risk associated with individual stocks. \n",
      "   - Individual stocks (30%) are well-established companies with strong fundamentals.\n",
      "\n",
      "2. **Growth Potential**: \n",
      "   - Technology (AAPL and MSFT) is a growth sector likely to perform well over time.\n",
      "   - Consumer goods (KO) offers stability and dividends.\n",
      "\n",
      "3. **Defensive Plays**:\n",
      "   - Allocating to healthcare (JNJ) and renewable energy (NEE) provides defensive exposure to sectors less affected by economic downturns.\n",
      "\n",
      "4. **Liquidity**: \n",
      "   - Maintaining a cash reserve (10%) is essential for emergencies, ensuring you don’t need to sell investments at a loss during market dips.\n",
      "\n",
      "### Risk Management Considerations:\n",
      "\n",
      "1. **Dollar-Cost Averaging**: \n",
      "   - Consider investing in increments over several months instead of a lump sum. For example, you could invest $200 monthly for five months.\n",
      "\n",
      "2. **Education**: \n",
      "   - Spend time learning about stock investing, market trends, and individual companies. Utilize resources like books, online courses, or investment platforms with educational tools.\n",
      "\n",
      "3. **Monitoring**: \n",
      "   - Regularly review and adjust your portfolio based on performance and changing financial goals. Rebalance your investments annually to maintain your desired asset allocation.\n",
      "\n",
      "4. **Emergency Fund Priority**: \n",
      "   - Before significant investments, ensure your emergency fund (3-6 months of expenses) is funded. This will provide a safety net and allow you to invest more confidently.\n",
      "\n",
      "5. **Consult a Financial Advisor**: \n",
      "   - If unsure, consider speaking with a financial advisor to tailor investments based on personal goals and risk tolerance.\n",
      "\n",
      "### Summary\n",
      "\n",
      "This diversified investment strategy balances growth potential and risk management tailored to your age and capital. Stay informed, be patient, and maintain a long-term perspective for the best results.\n"
     ]
    }
   ],
   "source": [
    "summarize_prompt = PromptTemplate.from_template(\n",
    "    \"You are a Client interface agent. Give a clear and succint financial strategy with precise numbers and allocations\"\n",
    "    \"based on \\n{analyst_advice}\\n and \\n{risk_evaluation}\\n\"\n",
    ")\n",
    "\n",
    "summarized_chain = {\"client_rephrased_query\": client_chain} | {\"analyst_advice\": analyst_chain} | {\"risk_evaluation\": risk_chain} | summarize_prompt | llm | StrOutputParser()\n",
    "\n",
    "summary= summarized_chain.invoke(user_query)\n",
    "print(\"\\n⚖️ Summary:\\n\", summary)"
   ]
  },
  {
   "cell_type": "code",
   "execution_count": null,
   "metadata": {},
   "outputs": [],
   "source": []
  }
 ],
 "metadata": {
  "kernelspec": {
   "display_name": "financial-advisor",
   "language": "python",
   "name": "python3"
  },
  "language_info": {
   "codemirror_mode": {
    "name": "ipython",
    "version": 3
   },
   "file_extension": ".py",
   "mimetype": "text/x-python",
   "name": "python",
   "nbconvert_exporter": "python",
   "pygments_lexer": "ipython3",
   "version": "3.12.9"
  }
 },
 "nbformat": 4,
 "nbformat_minor": 2
}
