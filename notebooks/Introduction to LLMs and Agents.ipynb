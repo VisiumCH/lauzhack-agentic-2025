{
 "cells": [
  {
   "cell_type": "markdown",
   "metadata": {},
   "source": [
    "# Introduction to LLMs and Agents"
   ]
  },
  {
   "cell_type": "markdown",
   "metadata": {},
   "source": [
    "Welcome to our workshop! In this session, we'll explore how to build AI-powered applications using **LangChain**, a popular framework for developing applications with Large Language Models (LLMs). We'll start with a simple chatbot and then enhance it with a multi-agent framework."
   ]
  },
  {
   "cell_type": "markdown",
   "metadata": {},
   "source": [
    "## Setting Up Our Environment"
   ]
  },
  {
   "cell_type": "markdown",
   "metadata": {},
   "source": [
    "First, we need to set up our environment. We'll use OpenAI's models, so we need an API key. You can define your `OPENAI_API_KEY` in the `.env` file.\n",
    "\n",
    "The code retrieve the key and sets some global configurations:\n",
    "- `LLM_MODEL`: The specific model we'll use\n",
    "- `LLM_TEMPERATURE`: Controls randomness in responses (0 means very deterministic)"
   ]
  },
  {
   "cell_type": "code",
   "execution_count": 9,
   "metadata": {},
   "outputs": [],
   "source": [
    "import os"
   ]
  },
  {
   "cell_type": "code",
   "execution_count": 10,
   "metadata": {},
   "outputs": [],
   "source": [
    "if not os.environ.get(\"OPENAI_API_KEY\"):\n",
    "    raise ValueError(\"Please set OPENAI_API_KEY environment variable\")\n",
    "\n",
    "LLM_MODEL = \"gpt-4o-mini\"\n",
    "LLM_TEMPERATURE = 0.9"
   ]
  },
  {
   "cell_type": "markdown",
   "metadata": {},
   "source": [
    "## Building a Simple ChatBot"
   ]
  },
  {
   "cell_type": "markdown",
   "metadata": {},
   "source": [
    "Let's start with creating a basic chatbot using **LangChain**. We'll use:\n",
    "- `ChatOpenAI`: The interface to OpenAI's chat models\n",
    "- `SystemMessage`: Defines the bot's behavior and role\n",
    "- `HumanMessage`: Represents user input\n",
    "\n",
    "Our chatbot will act as a Financial Analyst. We'll create it by:\n",
    "1. Instantiating the model\n",
    "2. Defining a system prompt that sets the bot's role\n",
    "3. Sending a user query and getting a response with `.invoke()`\n",
    "\n",
    "This demonstrates the basic pattern of LLM interactions: prompt → response."
   ]
  },
  {
   "cell_type": "code",
   "execution_count": 11,
   "metadata": {},
   "outputs": [],
   "source": [
    "from IPython.display import Markdown\n",
    "from langchain_core.messages import HumanMessage, SystemMessage\n",
    "from langchain_openai import ChatOpenAI"
   ]
  },
  {
   "cell_type": "code",
   "execution_count": 12,
   "metadata": {},
   "outputs": [],
   "source": [
    "# TODO: Create a ChatOpenAI instance with the LLM model and temperature\n",
    "base_model = ChatOpenAI(model=LLM_MODEL, temperature=LLM_TEMPERATURE)"
   ]
  },
  {
   "cell_type": "code",
   "execution_count": 13,
   "metadata": {},
   "outputs": [],
   "source": [
    "BASE_PROMPT = \"\"\"\n",
    "You are a Financial Analyst. Do your best to help the client with their request based on your expertise. Give a succinct and clear response.\n",
    "\"\"\""
   ]
  },
  {
   "cell_type": "code",
   "execution_count": 14,
   "metadata": {},
   "outputs": [],
   "source": [
    "# Request from the client\n",
    "request = \"I want to invest in the technology sector. Can you please define an investment strategy?\"\n",
    "\n",
    "# Message list for the base model\n",
    "messages = [\n",
    "    SystemMessage(BASE_PROMPT),\n",
    "    HumanMessage(request),\n",
    "]\n",
    "\n",
    "# Invoke the model with the messages\n",
    "response = base_model.invoke(messages)"
   ]
  },
  {
   "cell_type": "code",
   "execution_count": 15,
   "metadata": {},
   "outputs": [
    {
     "data": {
      "text/markdown": [
       "Absolutely! Here’s a concise investment strategy for the technology sector:\n",
       "\n",
       "1. **Define Your Investment Goals**: Determine your risk tolerance, time horizon, and investment objectives (e.g., growth vs. value).\n",
       "\n",
       "2. **Diversification**: Invest across various sub-sectors within technology (e.g., software, hardware, semiconductors, cybersecurity, AI, cloud computing) to spread risk.\n",
       "\n",
       "3. **Research and Analysis**:\n",
       "   - **Fundamentals**: Look for companies with solid financials, strong revenue growth, and healthy profit margins.\n",
       "   - **Trends**: Stay informed on emerging trends (like AI, 5G, and IoT) that could drive future growth.\n",
       "\n",
       "4. **Valuation Metrics**: Use metrics such as P/E ratio, PEG ratio, and EV/EBITDA to evaluate whether stocks are overvalued or undervalued.\n",
       "\n",
       "5. **ETFs and Mutual Funds**: Consider technology-focused ETFs or mutual funds for instant diversification and managed risk.\n",
       "\n",
       "6. **Long-Term Focus**: Technology can be volatile; maintain a long-term perspective and avoid knee-jerk reactions to short-term market events.\n",
       "\n",
       "7. **Regular Review**: Continuously monitor your investments and the sector for changes in fundamentals or market dynamics, adjusting your portfolio as needed.\n",
       "\n",
       "8. **Stay Informed**: Follow industry news, earnings reports, and analyst recommendations to make informed decisions.\n",
       "\n",
       "By following this strategy, you can position yourself well within the technology sector while managing risk effectively."
      ],
      "text/plain": [
       "<IPython.core.display.Markdown object>"
      ]
     },
     "execution_count": 15,
     "metadata": {},
     "output_type": "execute_result"
    }
   ],
   "source": [
    "Markdown(response.content)"
   ]
  },
  {
   "cell_type": "markdown",
   "metadata": {},
   "source": [
    "## Agentic system"
   ]
  },
  {
   "cell_type": "markdown",
   "metadata": {},
   "source": [
    "We will now create a simple agentic system consisting of three agents using LangChain.\n",
    "This system will help us perform a more elaborate financial analysis by including:\n",
    "\n",
    "- Client Interface Agent: Rephrases the user’s prompt to improve the quality of the financial analyst’s response.\n",
    "\n",
    "- Financial Analyst: Similar to the first part; provides financial advice based on the refined prompt.\n",
    "\n",
    "- Risk Advisor: Assesses the risk associated with the advice given by the financial analyst."
   ]
  },
  {
   "cell_type": "code",
   "execution_count": 17,
   "metadata": {},
   "outputs": [
    {
     "name": "stdout",
     "output_type": "stream",
     "text": [
      "\n",
      "🤖 Client Interface:\n",
      " A 35-year-old individual with $50,000 in savings is seeking advice on whether to invest in real estate or index funds. What would be the best recommendation for their investment strategy?\n",
      "\n",
      "📈 Financial Analyst:\n",
      " When advising on whether to invest in real estate or index funds, it’s essential to consider the individual’s financial goals, timeline, and preferences.\n",
      "\n",
      "### Recommendation:\n",
      "\n",
      "1. **Diversification**: A balanced approach is often beneficial. Instead of committing all funds to one investment type, consider splitting the investment between real estate and index funds. For instance, allocate 60% to index funds and 40% to real estate.\n",
      "\n",
      "2. **Index Funds**: \n",
      "   - **Liquidity**: Index funds offer high liquidity, allowing the individual to easily buy and sell shares. This is advantageous for those who may need access to their funds in the short term.\n",
      "   - **Market Growth**: Index funds typically provide exposure to a diversified range of companies, which can lead to growth over time. They also often have lower management fees compared to actively managed funds.\n",
      "   - **Simplicity**: Investing in index funds is straightforward and requires less ongoing management compared to real estate.\n",
      "\n",
      "3. **Real Estate**:\n",
      "   - **Potential for Appreciation**: Real estate can provide significant appreciation and income potential through rent. It could be a good long-term investment.\n",
      "   - **Tax Benefits**: Real estate may offer tax advantages, including depreciation and possible deductions for mortgage interest and property taxes.\n",
      "   - **Tangible Asset**: Investing in real estate provides a physical asset, which some investors prefer for its stability.\n",
      "\n",
      "### Strategy Consideration:\n",
      "- **Investment Horizon**: If the individual is looking for long-term growth (10 years or more), consider a heavier allocation to real estate for potential appreciation.\n",
      "- **Market Conditions**: Assess the local real estate market conditions to gauge potential investment opportunities.\n",
      "- **Automatic Contributions**: For index funds, setting up automatic contributions can help take advantage of dollar-cost averaging.\n",
      "\n",
      "### Conclusion:\n",
      "The best strategy may involve a combination of both investment vehicles, strategically balancing between liquidity, growth potential, and asset appreciation. Consider starting with a diversified portfolio that includes both index funds and a smaller allocation to real estate, adjusting proportions based on ongoing financial goals and market conditions.\n",
      "\n",
      "⚠️ Risk Advisor:\n",
      " ### Risk Perspective Evaluation\n",
      "\n",
      "The recommendation to invest in both real estate and index funds presents a balanced approach, but it is essential to evaluate the associated risks and consider strategies to mitigate them.\n",
      "\n",
      "#### Cautions:\n",
      "\n",
      "1. **Market Volatility**:\n",
      "   - **Index Funds**: While index funds provide diversification, they are still subject to market volatility. Economic downturns can negatively affect the stock market, leading to potential short-term losses.\n",
      "   - **Real Estate**: Real estate markets can also experience fluctuations. Economic conditions, interest rates, and local market dynamics can significantly impact property values and rental income.\n",
      "\n",
      "2. **Liquidity Risks**:\n",
      "   - **Index Funds**: While generally liquid, market conditions can affect the ease of liquidation. In a bear market, selling index funds may not yield favorable prices.\n",
      "   - **Real Estate**: Real estate investments are much less liquid. Selling a property can take time and often incurs costs that can diminish returns.\n",
      "\n",
      "3. **Cash Flow Management**:\n",
      "   - Holding real estate requires ongoing cash flow to manage expenses such as mortgage payments, maintenance, taxes, and unexpected repairs. If cash flow is not managed well, it can lead to financial strain.\n",
      "\n",
      "4. **Concentration risk**:\n",
      "   - Allocating 40% to real estate exposes the portfolio to sector-specific risks. A downturn in the real estate market can lead to significant losses if not adequately diversified.\n",
      "\n",
      "5. **Interest Rate Risk**:\n",
      "   - Rising interest rates can negatively affect both real estate (increased borrowing costs) and the stock market (higher discount rates impacting stock valuations).\n",
      "\n",
      "6. **Regulatory and Tax Risks**:\n",
      "    - Real estate investments may be subject to changing regulations at the local, state, or federal levels. Tax laws can also fluctuate, impacting the profitability of real estate investments.\n",
      "\n",
      "#### Strategies to Reduce Risk:\n",
      "\n",
      "1. **Diversification**:\n",
      "   - **Broaden Index Fund Investment**: Consider investing in a variety of index funds that track different sectors and asset classes (e.g., international funds, bonds) to reduce concentration risk.\n",
      "   - **Diversified Real Estate Portfolio**: Explore real estate investment trusts (REITs) or real estate crowdfunding platforms that allow for lower entry costs and diversification within the real estate market.\n",
      "\n",
      "2. **Establish an Emergency Fund**:\n",
      "   - Maintain a liquid emergency fund to cover unexpected expenses or financial challenges. This allows for better cash flow management while holding real estate.\n",
      "\n",
      "3. **Investment Horizon Alignment**:\n",
      "   - Ensure that the investment horizon aligns with the chosen asset classes. Short-term needs should be met with more liquid assets, while long-term growth can be supported by real estate.\n",
      "\n",
      "4. **Asset Monitoring and Rebalancing**:\n",
      "   - Regularly review and rebalance the portfolio according to market conditions and personal financial goals. This keeps the investment strategy aligned with risk tolerance.\n",
      "\n",
      "5. **Financial Education**:\n",
      "   - Stay informed about market trends, economic indicators, and changes in real estate laws and regulations to make informed decisions.\n",
      "\n",
      "6. **Professional Guidance**:\n",
      "   - Consider consulting with financial advisors or real estate professionals for tailored advice and to navigate complexities in both asset classes.\n",
      "\n",
      "#### Conclusion:\n",
      "\n",
      "While a balanced approach involving both index funds and real estate is recommended, it is critical to be aware of the risks associated with each investment type. Implementing strategies to mitigate these risks will pave the way for a more robust investment portfolio that aligns with the individual’s financial goals and risk tolerance.\n"
     ]
    }
   ],
   "source": [
    "from langchain.schema import SystemMessage, HumanMessage, AIMessage\n",
    "from langchain.chains import LLMChain\n",
    "from langchain.prompts import PromptTemplate\n",
    "from langchain_core.output_parsers import StrOutputParser\n",
    "\n",
    "# Load LLM\n",
    "llm = ChatOpenAI(model=LLM_MODEL, temperature=LLM_TEMPERATURE)\n",
    "\n",
    "# Agent Prompts\n",
    "client_prompt = PromptTemplate.from_template(\n",
    "    \"You are a Client Interface agent. A user has asked the following question:\\n{user_query}\\n\"\n",
    "    \"Rephrase it clearly for a financial analyst.\"\n",
    ")\n",
    "analyst_prompt = PromptTemplate.from_template(\n",
    "    \"You are a Financial Analyst. The client asked: {client_rephrased_query}\\n\"\n",
    "    \"Give clear investment advice. Do not assess risk.\"\n",
    ")\n",
    "risk_prompt = PromptTemplate.from_template(\n",
    "    \"You are a Risk Advisor. The analyst has recommended:\\n{analyst_advice}\\n\"\n",
    "    \"Evaluate this advice from a risk perspective. Offer any cautions and ways to reduce risk.\"\n",
    ")\n",
    "\n",
    "# Define Chains\n",
    "client_chain = client_prompt | llm | StrOutputParser()\n",
    "analyst_chain = analyst_prompt | llm | StrOutputParser()\n",
    "risk_chain = risk_prompt | llm | StrOutputParser()\n",
    "\n",
    "# Simulate user question\n",
    "user_query = \"I'm 35 and have $50,000 saved. Should I invest in real estate or index funds?\"\n",
    "\n",
    "# Step 1: Client Interface processes input\n",
    "client_rephrased_query = client_chain.invoke(user_query)\n",
    "print(\"\\n🤖 Client Interface:\\n\", client_rephrased_query)\n",
    "\n",
    "# Step 2: Financial Analyst responds\n",
    "analyst_advice = analyst_chain.invoke(client_rephrased_query)\n",
    "print(\"\\n📈 Financial Analyst:\\n\", analyst_advice)\n",
    "\n",
    "# Step 3: Risk Advisor evaluates\n",
    "risk_evaluation = risk_chain.invoke(analyst_advice)\n",
    "print(\"\\n⚠️ Risk Advisor:\\n\", risk_evaluation)"
   ]
  },
  {
   "cell_type": "code",
   "execution_count": null,
   "metadata": {},
   "outputs": [],
   "source": []
  }
 ],
 "metadata": {
  "kernelspec": {
   "display_name": "financial-advisor",
   "language": "python",
   "name": "python3"
  },
  "language_info": {
   "codemirror_mode": {
    "name": "ipython",
    "version": 3
   },
   "file_extension": ".py",
   "mimetype": "text/x-python",
   "name": "python",
   "nbconvert_exporter": "python",
   "pygments_lexer": "ipython3",
   "version": "3.12.9"
  }
 },
 "nbformat": 4,
 "nbformat_minor": 2
}
