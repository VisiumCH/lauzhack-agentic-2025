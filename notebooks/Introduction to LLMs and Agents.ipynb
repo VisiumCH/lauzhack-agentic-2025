{
 "cells": [
  {
   "cell_type": "markdown",
   "metadata": {},
   "source": [
    "# Introduction to LLMs and Agents"
   ]
  },
  {
   "cell_type": "markdown",
   "metadata": {},
   "source": [
    "Welcome to our workshop! In this session, we'll explore how to build AI-powered applications using **LangChain**, a popular framework for developing applications with Large Language Models (LLMs). We'll start with a simple chatbot and then enhance it with a multi-agent framework."
   ]
  },
  {
   "cell_type": "markdown",
   "metadata": {},
   "source": [
    "## Setting Up Our Environment"
   ]
  },
  {
   "cell_type": "markdown",
   "metadata": {},
   "source": [
    "First, we need to set up our environment. We'll use OpenAI's models, so we need an API key. You can define your `OPENAI_API_KEY` in the `.env` file.\n",
    "\n",
    "The code retrieve the key and sets some global configurations:\n",
    "- `LLM_MODEL`: The specific model we'll use\n",
    "- `LLM_TEMPERATURE`: Controls randomness in responses (0 means very deterministic)"
   ]
  },
  {
   "cell_type": "code",
   "execution_count": 37,
   "metadata": {},
   "outputs": [],
   "source": [
    "import os"
   ]
  },
  {
   "cell_type": "code",
   "execution_count": 38,
   "metadata": {},
   "outputs": [],
   "source": [
    "if not os.environ.get(\"OPENAI_API_KEY\"):\n",
    "    raise ValueError(\"Please set OPENAI_API_KEY environment variable\")\n",
    "\n",
    "LLM_MODEL = \"gpt-4o-mini\"\n",
    "LLM_TEMPERATURE = 0.9"
   ]
  },
  {
   "cell_type": "code",
   "execution_count": 39,
   "metadata": {},
   "outputs": [],
   "source": [
    "from langchain_community.tools.yahoo_finance_news import YahooFinanceNewsTool\n",
    "from langgraph.prebuilt import create_react_agent\n",
    "\n",
    "tools = [YahooFinanceNewsTool()]\n",
    "agent = create_react_agent(LLM_MODEL, tools)"
   ]
  },
  {
   "cell_type": "code",
   "execution_count": 40,
   "metadata": {},
   "outputs": [
    {
     "data": {
      "text/plain": [
       "{'query': {'description': 'company ticker query to look up',\n",
       "  'title': 'Query',\n",
       "  'type': 'string'}}"
      ]
     },
     "execution_count": 40,
     "metadata": {},
     "output_type": "execute_result"
    }
   ],
   "source": [
    "tool = YahooFinanceNewsTool()\n",
    "tool.args"
   ]
  },
  {
   "cell_type": "code",
   "execution_count": 41,
   "metadata": {},
   "outputs": [
    {
     "ename": "NameError",
     "evalue": "name 'initialize_agent' is not defined",
     "output_type": "error",
     "traceback": [
      "\u001b[31m---------------------------------------------------------------------------\u001b[39m",
      "\u001b[31mNameError\u001b[39m                                 Traceback (most recent call last)",
      "\u001b[36mCell\u001b[39m\u001b[36m \u001b[39m\u001b[32mIn[41]\u001b[39m\u001b[32m, line 1\u001b[39m\n\u001b[32m----> \u001b[39m\u001b[32m1\u001b[39m agent_executor = \u001b[43minitialize_agent\u001b[49m(\n\u001b[32m      2\u001b[39m     tools=tools,\n\u001b[32m      3\u001b[39m     llm=llm,\n\u001b[32m      4\u001b[39m     agent=AgentType.ZERO_SHOT_REACT_DESCRIPTION,\n\u001b[32m      5\u001b[39m     verbose=\u001b[38;5;28;01mTrue\u001b[39;00m\n\u001b[32m      6\u001b[39m )\n",
      "\u001b[31mNameError\u001b[39m: name 'initialize_agent' is not defined"
     ]
    }
   ],
   "source": [
    "agent_executor = initialize_agent(\n",
    "    tools=tools,\n",
    "    llm=llm,\n",
    "    agent=AgentType.ZERO_SHOT_REACT_DESCRIPTION,\n",
    "    verbose=True\n",
    ")"
   ]
  },
  {
   "cell_type": "markdown",
   "metadata": {},
   "source": [
    "## Building a Simple ChatBot"
   ]
  },
  {
   "cell_type": "markdown",
   "metadata": {},
   "source": [
    "Let's start with creating a basic chatbot using **LangChain**. We'll use:\n",
    "- `ChatOpenAI`: The interface to OpenAI's chat models\n",
    "- `SystemMessage`: Defines the bot's behavior and role\n",
    "- `HumanMessage`: Represents user input\n",
    "\n",
    "Our chatbot will act as a Financial Analyst. We'll create it by:\n",
    "1. Instantiating the model\n",
    "2. Defining a system prompt that sets the bot's role\n",
    "3. Sending a user query and getting a response with `.invoke()`\n",
    "\n",
    "This demonstrates the basic pattern of LLM interactions: prompt → response."
   ]
  },
  {
   "cell_type": "code",
   "execution_count": null,
   "metadata": {},
   "outputs": [],
   "source": [
    "from IPython.display import Markdown\n",
    "from langchain_core.messages import HumanMessage, SystemMessage\n",
    "from langchain_openai import ChatOpenAI"
   ]
  },
  {
   "cell_type": "code",
   "execution_count": null,
   "metadata": {},
   "outputs": [],
   "source": [
    "# TODO: Create a ChatOpenAI instance with the LLM model and temperature\n",
    "base_model = ChatOpenAI(model=LLM_MODEL, temperature=LLM_TEMPERATURE)"
   ]
  },
  {
   "cell_type": "code",
   "execution_count": null,
   "metadata": {},
   "outputs": [],
   "source": [
    "BASE_PROMPT = \"\"\"\n",
    "You are a Financial Analyst. Do your best to help the client with their request based on your expertise. Give a clear and succint financial strategy with precise numbers and allocations.\n",
    "\"\"\""
   ]
  },
  {
   "cell_type": "code",
   "execution_count": null,
   "metadata": {},
   "outputs": [],
   "source": [
    "# Request from the client\n",
    "request = \"I'm 25 year old and have $1,000 saved. which US stocks should I invest into?\"\n",
    "\n",
    "# Message list for the base model\n",
    "messages = [\n",
    "    SystemMessage(BASE_PROMPT),\n",
    "    HumanMessage(request),\n",
    "]\n",
    "\n",
    "# Invoke the model with the messages\n",
    "response = base_model.invoke(messages)"
   ]
  },
  {
   "cell_type": "code",
   "execution_count": null,
   "metadata": {},
   "outputs": [
    {
     "data": {
      "text/markdown": [
       "Investing in the stock market can be a great way to build wealth over time. Given that you're 25 and have $1,000 to invest, it's important to consider a diversified approach to reduce risk while still aiming for growth. Here’s a clear strategy:\n",
       "\n",
       "### Financial Strategy:\n",
       "\n",
       "1. **Emergency Fund**: Before investing, ensure you have a small emergency fund. It's recommended to have at least $500 set aside for unexpected expenses. This leaves you with $500 to invest.\n",
       "\n",
       "2. **Investing Goal**: Define whether your investment horizon is long-term (5+ years) or short-term (1-3 years). Since you’re 25, you can afford to take a longer-term approach.\n",
       "\n",
       "3. **Diversification Strategy**:\n",
       "   - **Index Funds/ETFs (60%)**: Allocate $300 to a low-cost index fund or ETF that tracks the S&P 500 (e.g., SPY or VOO). This gives you exposure to a diverse range of large-cap U.S. companies.\n",
       "   - **Growth Stocks (30%)**: Invest $150 in growth stocks of companies with strong potential. Consider companies like:\n",
       "     - **Apple (AAPL)** or **NVIDIA (NVDA)** for tech growth.\n",
       "   - **Dividend Stocks (10%)**: Allocate $50 to a dividend stock that can provide income and stability. Consider **Coca-Cola (KO)** or **Johnson & Johnson (JNJ)**.\n",
       "\n",
       "4. **Investment Platform**: Choose a brokerage with no commission fees for stock trades (like Robinhood, Fidelity, or Schwab). This way, your entire investment goes into the stock itself.\n",
       "\n",
       "5. **Regular Contributions:** Commit to continue investing monthly. If possible, set aside $50 monthly to keep building your investment portfolio.\n",
       "\n",
       "### Summary of Allocations:\n",
       "- **Emergency Fund**: $500\n",
       "- **Index Fund/ETF**: $300 (60%)\n",
       "- **Growth Stocks**: $150 (30% - Example: AAPL or NVDA)\n",
       "- **Dividend Stocks**: $50 (10% - Example: KO or JNJ)\n",
       "\n",
       "### Monitoring:\n",
       "Review your investments quarterly and adjust your portfolio if certain assets underperform or if you want to shift focus based on market conditions.\n",
       "\n",
       "### Final Note:\n",
       "Always do your own research or consult with a financial advisor, and consider risks associated with investing, especially since past performance does not guarantee future results."
      ],
      "text/plain": [
       "<IPython.core.display.Markdown object>"
      ]
     },
     "execution_count": 23,
     "metadata": {},
     "output_type": "execute_result"
    }
   ],
   "source": [
    "Markdown(response.content)"
   ]
  },
  {
   "cell_type": "markdown",
   "metadata": {},
   "source": [
    "## Simple Agent with Yahoo Finance News"
   ]
  },
  {
   "cell_type": "code",
   "execution_count": null,
   "metadata": {},
   "outputs": [],
   "source": [
    "# Load LLM\n",
    "llm = ChatOpenAI(model=LLM_MODEL, temperature=LLM_TEMPERATURE)"
   ]
  },
  {
   "cell_type": "code",
   "execution_count": 42,
   "metadata": {},
   "outputs": [
    {
     "name": "stdout",
     "output_type": "stream",
     "text": [
      "\n",
      "📈 Financial Analyst:\n",
      " {'input': \"I'm 25 year old and have $1,000 saved. which US stocks should I invest into?\", 'output': \"Here's what I found regarding the stocks I recommended:\\n\\n1. **Apple Inc. (AAPL)**: No recent news found.\\n  \\n2. **Microsoft Corporation (MSFT)**: No recent news found.\\n\\n3. **Amazon.com Inc. (AMZN)**: No recent news found.\\n\\n4. **NVIDIA Corporation (NVDA)**: No recent news found.\\n\\n5. **Tesla, Inc. (TSLA)**: There is recent news suggesting that Tesla and BYD (a competitor) are both setting up buying opportunities. This indicates potential strong interest and movement within the EV market, making TSLA a viable option.\\n\\n6. **Vanguard S&P 500 ETF (VOO)**: No recent news found.\\n\\n### Investment Advice:\\nGiven the lack of recent news on the other stocks but the positive outlook for Tesla, I recommend you consider investing in **Tesla, Inc. (TSLA)**. The news suggests they are nearing a buying point, which could indicate a great opportunity for investors. \\n\\nYou may allocate a portion of your $1,000 to other stocks for diversification, but focusing on TSLA currently might provide good growth potential. Always ensure to conduct your own research or consult a financial advisor before making any investment decisions.\"}\n"
     ]
    }
   ],
   "source": [
    "from langchain.agents import AgentExecutor, create_tool_calling_agent\n",
    "from langchain.prompts import PromptTemplate, ChatPromptTemplate\n",
    "\n",
    "prompt = ChatPromptTemplate.from_messages(\n",
    "    [\n",
    "        (\n",
    "            \"system\",\n",
    "            \"You are a Financial Analyst. The client asked: {input}\\n\"\n",
    "            \"Then based on the stocks you advise, check Yahoo Finance news if it's worth buying currently.\"\n",
    "            \"Give clear investment advice at the end. Do not assess risk. \",\n",
    "        ),\n",
    "        (\"placeholder\", \"{chat_history}\"),\n",
    "        (\"human\", \"{input}\"),\n",
    "        (\"placeholder\", \"{agent_scratchpad}\"),\n",
    "    ]\n",
    ")\n",
    "tools = [YahooFinanceNewsTool()]\n",
    "# Construct the Tools agent\n",
    "agent = create_tool_calling_agent(llm, tools, prompt)\n",
    "\n",
    "# Create an agent executor by passing in the agent and tools\n",
    "agent_executor = AgentExecutor(agent=agent, tools=tools, verbose=False)\n",
    "analyst_advice = agent_executor.invoke({\"input\": \"I'm 25 year old and have $1,000 saved. which US stocks should I invest into?\"})\n",
    "print(\"\\n📈 Financial Analyst:\\n\", analyst_advice)"
   ]
  },
  {
   "cell_type": "markdown",
   "metadata": {},
   "source": [
    "## Agentic system"
   ]
  },
  {
   "cell_type": "markdown",
   "metadata": {},
   "source": [
    "We will now create a simple agentic system consisting of three agents using LangChain.\n",
    "This system will help us perform a more elaborate financial analysis by including:\n",
    "\n",
    "- Client Interface Agent: Rephrases the user’s prompt to improve the quality of the financial analyst’s response.\n",
    "\n",
    "- Financial Analyst: Similar to the first part; provides financial advice based on the refined prompt.\n",
    "\n",
    "- Risk Advisor: Assesses the risk associated with the advice given by the financial analyst."
   ]
  },
  {
   "cell_type": "code",
   "execution_count": null,
   "metadata": {},
   "outputs": [
    {
     "name": "stdout",
     "output_type": "stream",
     "text": [
      "\n",
      "🤖 Client Interface:\n",
      " A 25-year-old individual has $1,000 in savings and is seeking recommendations on which U.S. stocks to invest in.\n",
      "\n",
      "📈 Financial Analyst:\n",
      " As a financial analyst, I recommend that the individual consider the following U.S. stocks that have shown solid performance and are associated with established companies. Given the relatively small amount of $1,000 and the youthful age of 25, it's crucial to focus on diversification and growth potential. Here are some stock options to consider:\n",
      "\n",
      "1. **Apple Inc. (AAPL)** \n",
      "   - A tech giant with a strong ecosystem of products and services.\n",
      "   - Consistent revenue growth and innovation with its products.\n",
      "\n",
      "2. **Amazon.com, Inc. (AMZN)**\n",
      "   - A leader in e-commerce and cloud computing with vast market reach.\n",
      "   - Potential for continued growth as online shopping expands.\n",
      "\n",
      "3. **Alphabet Inc. (GOOGL)** \n",
      "   - Parent company of Google; benefits from advertising revenue and cloud services.\n",
      "   - Strong position in search and digital advertising.\n",
      "\n",
      "4. **Microsoft Corporation (MSFT)**\n",
      "   - A major player in software, cloud services, and personal computing.\n",
      "   - Continues to innovate with products like Azure and Office 365.\n",
      "\n",
      "5. **Tesla, Inc. (TSLA)**\n",
      "   - A leader in electric vehicles and renewable energy.\n",
      "   - High growth potential as the EV market expands.\n",
      "\n",
      "6. **Procter & Gamble Co. (PG)**\n",
      "   - A strong dividend payer, known for consumer staples.\n",
      "   - Stability and reliability in its business model.\n",
      "\n",
      "7. **Coca-Cola Company (KO)**\n",
      "   - Another strong dividend stock that offers stability.\n",
      "   - Has a diversified portfolio of beverage products.\n",
      "\n",
      "### Investment Strategy\n",
      "- **Diversification**: Consider investing in fractional shares to diversify across several of the above companies. This allows the individual to spread the investment across different sectors, such as technology, consumer goods, and renewable energy.\n",
      "\n",
      "- **Exchange-Traded Funds (ETFs)**: If available, investing in an ETF that focuses on growth or technology sectors can also provide instant diversification with lower risk compared to individual stock picks.\n",
      "\n",
      "- **Dollar-Cost Averaging**: Since the amount is relatively small, investing gradually through dollar-cost averaging can help reduce the impact of volatility over time.\n",
      "\n",
      "- **Long-Term Perspective**: Given the age of the investor, it's beneficial to adopt a long-term investment strategy, allowing for compound growth over the years.\n",
      "\n",
      "### Action Steps\n",
      "1. Open a brokerage account if not already done so.\n",
      "2. Consider using a platform that allows for fractional shares.\n",
      "3. Allocate the $1,000 across a selection of these stocks or consider an ETF.\n",
      "4. Monitor the investments periodically but focus on long-term growth.\n",
      "\n",
      "This approach provides a starting point for building an investment portfolio with growth potential tailored to a young investor.\n",
      "\n",
      "⚠️ Risk Advisor:\n",
      " As a Risk Advisor, it's essential to critically evaluate the advice provided by the financial analyst and identify potential risks, as well as strategies to mitigate them. Below are some key considerations regarding the investment strategy suggested:\n",
      "\n",
      "### Risks and Cautions\n",
      "\n",
      "1. **Market Volatility**:\n",
      "   - **Risk**: The stock market can be quite volatile, especially for individual stocks like Tesla (TSLA) that may experience significant price swings.\n",
      "   - **Mitigation**: Emphasize dollar-cost averaging, which involves investing a fixed amount at regular intervals, mitigating the risk of buying at peaks.\n",
      "\n",
      "2. **Concentration Risk**:\n",
      "   - **Risk**: Investing heavily in a few individual stocks may lead to concentration risk, where the portfolio is overly reliant on the performance of a small number of companies.\n",
      "   - **Mitigation**: Encourage diversification across different sectors and consider sector-specific ETFs to further spread risk.\n",
      "\n",
      "3. **Investment Horizon**:\n",
      "   - **Risk**: While the investor is young and has a long-term horizon, unexpected life changes (e.g., job loss, health issues) can necessitate early withdrawals, potentially leading to losses.\n",
      "   - **Mitigation**: Maintain an emergency fund separate from investment capital, ensuring that the investor does not need to liquidate investments during a market downturn.\n",
      "\n",
      "4. **Company-Specific Risks**:\n",
      "   - **Risk**: The individual stocks listed may face company-specific issues (e.g., legal challenges, management changes, or market competition) that could negatively impact performance.\n",
      "   - **Mitigation**: Conduct regular reviews of the companies' performances and news to stay informed about any significant changes.\n",
      "\n",
      "5. **Sector Risks**:\n",
      "   - **Risk**: Certain sectors (e.g., technology) may perform well during specific economic conditions but may face downturns during others.\n",
      "   - **Mitigation**: Invest in a mix of sectors or opt for ETFs that provide exposure to different industries to shield the portfolio from sector downturns.\n",
      "\n",
      "6. **Economic and Regulatory Risks**:\n",
      "   - **Risk**: Changes in economic conditions, such as inflation rates or regulatory changes (especially in tech), can impact stock performance.\n",
      "   - **Mitigation**: Stay adaptable and open to re-evaluating investment strategies in response to economic trends. Consider allocating a portion of funds to more stable investments, such as bonds or dividend-paying stocks.\n",
      "\n",
      "### Additional Considerations\n",
      "\n",
      "- **Research and Due Diligence**: Advise the investor to conduct thorough research on each stock and understand the business models behind them. Tools such as fundamental analysis, technical analysis, and market trends can provide insight into potential risks.\n",
      "\n",
      "- **Expense Ratios and Fees**: When considering ETFs, analyze their expense ratios. Higher fees can erode returns over time.\n",
      "\n",
      "- **Utilizing Robo-Advisors**: If the investor is new to investing, consider using robo-advisors that can automatically create a diversified portfolio based on risk tolerance and investment goals, which can simplify the investment process.\n",
      "\n",
      "- **Educational Resources**: Encourage continuous learning about investing. Many platforms offer educational resources, webinars, and simulated trading environments that can enhance knowledge and confidence.\n",
      "\n",
      "### Final Action Steps\n",
      "1. Ensure the investor understands their risk tolerance before proceeding.\n",
      "2. Regularly re-assess the portfolio—adjust allocations or rebalance as needed.\n",
      "3. Set clear investment goals and timelines to maintain focus and avoid emotional decision-making.\n",
      "\n",
      "In summary, while the initial advice provides a solid starting point for a young investor, it's crucial to recognize the inherent risks in stock investing and adopt strategies that minimize exposure while fostering growth potential.\n"
     ]
    }
   ],
   "source": [
    "from langchain.prompts import PromptTemplate\n",
    "from langchain_core.output_parsers import StrOutputParser\n",
    "\n",
    "# Agent Prompts\n",
    "client_prompt = PromptTemplate.from_template(\n",
    "    \"You are a Client Interface agent. A user has asked the following question:\\n{user_query}\\n\"\n",
    "    \"Rephrase it clearly for a financial analyst.\"\n",
    ")\n",
    "analyst_prompt = PromptTemplate.from_template(\n",
    "    \"You are a Financial Analyst. The client asked: {client_rephrased_query}\\n\"\n",
    "    \"Give clear investment advice. Do not assess risk.\"\n",
    ")\n",
    "risk_prompt = PromptTemplate.from_template(\n",
    "    \"You are a Risk Advisor. The analyst has recommended:\\n{analyst_advice}\\n\"\n",
    "    \"Evaluate this advice from a risk perspective. Offer any cautions and ways to reduce risk.\"\n",
    ")\n",
    "\n",
    "# Define Chains\n",
    "client_chain = client_prompt | llm | StrOutputParser()\n",
    "analyst_chain = analyst_prompt | llm | StrOutputParser()\n",
    "risk_chain = risk_prompt | llm | StrOutputParser()\n",
    "\n",
    "# Simulate user question\n",
    "user_query = \"I'm 25 year old and have $1,000 saved. which US stocks should I invest into?\"\n",
    "\n",
    "# Step 1: Client Interface processes input\n",
    "client_rephrased_query = client_chain.invoke(user_query)\n",
    "print(\"\\n🤖 Client Interface:\\n\", client_rephrased_query)\n",
    "\n",
    "# Step 2: Financial Analyst responds\n",
    "analyst_advice = analyst_chain.invoke(client_rephrased_query)\n",
    "print(\"\\n📈 Financial Analyst:\\n\", analyst_advice)\n",
    "\n",
    "# Step 3: Risk Advisor evaluates\n",
    "risk_evaluation = risk_chain.invoke(analyst_advice)\n",
    "print(\"\\n⚠️ Risk Advisor:\\n\", risk_evaluation)"
   ]
  },
  {
   "cell_type": "code",
   "execution_count": null,
   "metadata": {},
   "outputs": [
    {
     "name": "stdout",
     "output_type": "stream",
     "text": [
      "\n",
      "⚖️ Summary:\n",
      " Here’s a clear and succinct financial strategy for your $1,000 investment, considering diversification, risk management, and a long-term growth perspective:\n",
      "\n",
      "### Investment Strategy Overview\n",
      "\n",
      "1. **Investment Amount**: $1,000\n",
      "\n",
      "2. **Allocation Breakdown**:\n",
      "   - **ETFs (Broad Market Exposure)**: 50% ($500)\n",
      "     - **Vanguard Total Stock Market ETF (VTI)**: $250\n",
      "     - **SPDR S&P 500 ETF Trust (SPY)**: $250\n",
      "   - **Individual Stocks**: 30% ($300)\n",
      "     - **Apple Inc. (AAPL)**: $100\n",
      "     - **Microsoft Corporation (MSFT)**: $100\n",
      "     - **Coca-Cola Company (KO)**: $100\n",
      "   - **Sector-Specific Stocks**: 10% ($100)\n",
      "     - **NextEra Energy, Inc. (NEE)**: $50\n",
      "     - **Johnson & Johnson (JNJ)**: $50\n",
      "   - **Cash Reserve / Emergency Fund**: 10% ($100)\n",
      "     - Keep in a high-yield savings account for liquidity.\n",
      "\n",
      "### Rationale Behind the Allocation:\n",
      "\n",
      "1. **Diversification**: \n",
      "   - Allocating primarily to ETFs (50%) provides broad market exposure, reducing the risk associated with individual stocks. \n",
      "   - Individual stocks (30%) are well-established companies with strong fundamentals.\n",
      "\n",
      "2. **Growth Potential**: \n",
      "   - Technology (AAPL and MSFT) is a growth sector likely to perform well over time.\n",
      "   - Consumer goods (KO) offers stability and dividends.\n",
      "\n",
      "3. **Defensive Plays**:\n",
      "   - Allocating to healthcare (JNJ) and renewable energy (NEE) provides defensive exposure to sectors less affected by economic downturns.\n",
      "\n",
      "4. **Liquidity**: \n",
      "   - Maintaining a cash reserve (10%) is essential for emergencies, ensuring you don’t need to sell investments at a loss during market dips.\n",
      "\n",
      "### Risk Management Considerations:\n",
      "\n",
      "1. **Dollar-Cost Averaging**: \n",
      "   - Consider investing in increments over several months instead of a lump sum. For example, you could invest $200 monthly for five months.\n",
      "\n",
      "2. **Education**: \n",
      "   - Spend time learning about stock investing, market trends, and individual companies. Utilize resources like books, online courses, or investment platforms with educational tools.\n",
      "\n",
      "3. **Monitoring**: \n",
      "   - Regularly review and adjust your portfolio based on performance and changing financial goals. Rebalance your investments annually to maintain your desired asset allocation.\n",
      "\n",
      "4. **Emergency Fund Priority**: \n",
      "   - Before significant investments, ensure your emergency fund (3-6 months of expenses) is funded. This will provide a safety net and allow you to invest more confidently.\n",
      "\n",
      "5. **Consult a Financial Advisor**: \n",
      "   - If unsure, consider speaking with a financial advisor to tailor investments based on personal goals and risk tolerance.\n",
      "\n",
      "### Summary\n",
      "\n",
      "This diversified investment strategy balances growth potential and risk management tailored to your age and capital. Stay informed, be patient, and maintain a long-term perspective for the best results.\n"
     ]
    }
   ],
   "source": [
    "summarize_prompt = PromptTemplate.from_template(\n",
    "    \"You are a Client interface agent. Give a clear and succint financial strategy with precise numbers and allocations\"\n",
    "    \"based on \\n{analyst_advice}\\n and \\n{risk_evaluation}\\n\"\n",
    ")\n",
    "\n",
    "summarized_chain = {\"client_rephrased_query\": client_chain} | {\"analyst_advice\": analyst_chain} | {\"risk_evaluation\": risk_chain} | summarize_prompt | llm | StrOutputParser()\n",
    "\n",
    "summary= summarized_chain.invoke(user_query)\n",
    "print(\"\\n⚖️ Summary:\\n\", summary)"
   ]
  },
  {
   "cell_type": "code",
   "execution_count": null,
   "metadata": {},
   "outputs": [],
   "source": []
  }
 ],
 "metadata": {
  "kernelspec": {
   "display_name": "financial-advisor",
   "language": "python",
   "name": "python3"
  },
  "language_info": {
   "codemirror_mode": {
    "name": "ipython",
    "version": 3
   },
   "file_extension": ".py",
   "mimetype": "text/x-python",
   "name": "python",
   "nbconvert_exporter": "python",
   "pygments_lexer": "ipython3",
   "version": "3.12.9"
  }
 },
 "nbformat": 4,
 "nbformat_minor": 2
}
