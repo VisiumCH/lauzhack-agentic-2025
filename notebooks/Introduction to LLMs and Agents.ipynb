{
 "cells": [
  {
   "cell_type": "markdown",
   "metadata": {},
   "source": [
    "# Introduction to LLMs and Agents"
   ]
  },
  {
   "cell_type": "markdown",
   "metadata": {},
   "source": [
    "Welcome to our workshop! In this session, we'll explore how to build AI-powered applications using **LangChain**, a popular framework for developing applications with Large Language Models (LLMs). We'll start with a simple chatbot and then enhance it with a multi-agent framework."
   ]
  },
  {
   "cell_type": "markdown",
   "metadata": {},
   "source": [
    "## Setting Up Our Environment"
   ]
  },
  {
   "cell_type": "markdown",
   "metadata": {},
   "source": [
    "First, we need to set up our environment. We'll use OpenAI's models, so we need an API key. You can define your `OPENAI_API_KEY` in the `.env` file.\n",
    "\n",
    "The code retrieve the key and sets some global configurations:\n",
    "- `LLM_MODEL`: The specific model we'll use\n",
    "- `LLM_TEMPERATURE`: Controls randomness in responses (0 means very deterministic)"
   ]
  },
  {
   "cell_type": "code",
   "execution_count": null,
   "metadata": {},
   "outputs": [],
   "source": [
    "import os"
   ]
  },
  {
   "cell_type": "code",
   "execution_count": null,
   "metadata": {},
   "outputs": [],
   "source": [
    "if not os.environ.get(\"OPENAI_API_KEY\"):\n",
    "    raise ValueError(\"Please set OPENAI_API_KEY environment variable\")\n",
    "\n",
    "LLM_MODEL = \"gpt-4o-mini\"\n",
    "LLM_TEMPERATURE = 0.9"
   ]
  },
  {
   "cell_type": "markdown",
   "metadata": {},
   "source": [
    "## Building a Simple ChatBot"
   ]
  },
  {
   "cell_type": "markdown",
   "metadata": {},
   "source": [
    "Let's start with creating a basic chatbot using **LangChain**. We'll use:\n",
    "- `ChatOpenAI`: The interface to OpenAI's chat models\n",
    "- `SystemMessage`: Defines the bot's behavior and role\n",
    "- `HumanMessage`: Represents user input\n",
    "\n",
    "Our chatbot will act as a Financial Analyst. We'll create it by:\n",
    "1. Instantiating the model\n",
    "2. Defining a system prompt that sets the bot's role\n",
    "3. Sending a user query and getting a response with `.invoke()`\n",
    "\n",
    "This demonstrates the basic pattern of LLM interactions: prompt → response."
   ]
  },
  {
   "cell_type": "code",
   "execution_count": null,
   "metadata": {},
   "outputs": [],
   "source": [
    "from IPython.display import Markdown\n",
    "from langchain_core.messages import HumanMessage, SystemMessage\n",
    "from langchain_openai import ChatOpenAI"
   ]
  },
  {
   "cell_type": "code",
   "execution_count": null,
   "metadata": {},
   "outputs": [],
   "source": [
    "# TODO: Create a ChatOpenAI instance with the LLM model and temperature\n",
    "base_model = ChatOpenAI(model=LLM_MODEL, temperature=LLM_TEMPERATURE)"
   ]
  },
  {
   "cell_type": "code",
   "execution_count": null,
   "metadata": {},
   "outputs": [],
   "source": [
    "BASE_PROMPT = \"\"\"\n",
    "You are a Financial Analyst. Do your best to help the client with their request based on your expertise. Give a succinct and clear response.\n",
    "\"\"\""
   ]
  },
  {
   "cell_type": "code",
   "execution_count": null,
   "metadata": {},
   "outputs": [],
   "source": [
    "# Request from the client\n",
    "request = \"I want to invest in the technology sector. Can you please define an investment strategy?\"\n",
    "\n",
    "# Message list for the base model\n",
    "messages = [\n",
    "    SystemMessage(BASE_PROMPT),\n",
    "    HumanMessage(request),\n",
    "]\n",
    "\n",
    "# Invoke the model with the messages\n",
    "response = base_model.invoke(messages)"
   ]
  },
  {
   "cell_type": "code",
   "execution_count": 31,
   "metadata": {},
   "outputs": [
    {
     "data": {
      "text/markdown": [
       "Certainly! Here’s a concise strategy for investing in the technology sector:\n",
       "\n",
       "1. **Research and Identify Trends**: Stay updated on emerging technologies (AI, cybersecurity, cloud computing, etc.) and identify companies that are poised for growth in these areas.\n",
       "\n",
       "2. **Diverse Portfolio**: Invest in a mix of large-cap tech stocks (established companies), mid-cap (growing firms), and small-cap (high-risk, high-reward startups) to balance potential risks and rewards.\n",
       "\n",
       "3. **Invest in ETFs and Mutual Funds**: Consider technology-focused ETFs or mutual funds for diversification. This approach allows you to spread your investment across multiple companies with less risk than investing in individual stocks.\n",
       "\n",
       "4. **Evaluate Fundamentals**: Analyze companies based on key metrics such as revenue growth, profit margins, R&D expenditure, and market share. Favor companies with a strong financial position and growth trajectory.\n",
       "\n",
       "5. **Monitor Market Conditions**: Keep an eye on economic indicators and market sentiment, as tech stocks can be sensitive to interest rates and economic cycles.\n",
       "\n",
       "6. **Long-Term Perspective**: Technology can be volatile; hence, adopt a long-term investment horizon to ride out market fluctuations.\n",
       "\n",
       "7. **Stay Informed**: Continuously educate yourself about the sector, including potential regulatory changes, technological advancements, and competitive landscapes.\n",
       "\n",
       "8. **Consider Risk Management**: Set stop-loss orders or allocate only a portion of your portfolio to tech investments to mitigate risk.\n",
       "\n",
       "By combining these elements, you can create a balanced and informed approach to investing in the technology sector. Always consider consulting with a financial advisor to tailor this strategy to your specific financial situation and goals."
      ],
      "text/plain": [
       "<IPython.core.display.Markdown object>"
      ]
     },
     "execution_count": 31,
     "metadata": {},
     "output_type": "execute_result"
    }
   ],
   "source": [
    "Markdown(response.content)"
   ]
  },
  {
   "cell_type": "code",
   "execution_count": null,
   "metadata": {},
   "outputs": [
    {
     "name": "stdout",
     "output_type": "stream",
     "text": [
      "\n",
      "🤖 Client Interface:\n",
      " The user is seeking advice on whether to invest $1,000 in Microsoft or Tesla in the stock market.\n",
      "\n",
      "📈 Financial Analyst:\n",
      " When considering an investment in Microsoft (MSFT) versus Tesla (TSLA) with a focus solely on potential upside, here are a few points to consider for each company:\n",
      "\n",
      "### Microsoft (MSFT)\n",
      "\n",
      "1. **Strong Financial Performance**: Microsoft has consistently shown strong revenue growth, profitability, and a solid earnings track record. Its cloud services (Azure) are a significant growth driver.\n",
      "\n",
      "2. **Diversified Business Model**: Microsoft has a diversified portfolio that includes software (Office, Windows), cloud computing (Azure), gaming (Xbox), and LinkedIn. This diversification helps mitigate risks associated with reliance on a single segment.\n",
      "\n",
      "3. **Stable Dividends**: Microsoft has a history of returning capital to shareholders through dividends, which can provide a steady income stream in addition to price appreciation.\n",
      "\n",
      "4. **Market Position**: Microsoft maintains a strong position in various sectors, particularly in enterprise solutions and cloud computing, which are expected to continue growing.\n",
      "\n",
      "### Tesla (TSLA)\n",
      "\n",
      "1. **High Growth Potential**: Tesla is a leader in the electric vehicle market, which is expected to expand rapidly as more consumers and businesses shift towards sustainable energy and transportation solutions.\n",
      "\n",
      "2. **Innovative Technology**: Tesla is at the forefront of innovation with its autonomous driving technology, battery advancements, and energy solutions, which could lead to significant growth opportunities.\n",
      "\n",
      "3. **Brand Loyalty and Market Share**: Tesla has a strong brand and a loyal customer base, which helps maintain its competitive advantage in the EV market.\n",
      "\n",
      "4. **Global Expansion**: Tesla is expanding its production and sales into new international markets, which could significantly increase its revenue potential.\n",
      "\n",
      "### Conclusion\n",
      "\n",
      "If you are looking for a more stable investment with consistent growth and dividends, Microsoft may be the preferable choice. Alternatively, if you are seeking higher growth potential and are comfortable with the volatility that comes with it, Tesla could be the better option.\n",
      "\n",
      "Ultimately, both companies have strong prospects, and the decision should align with your investment goals and preferences. If you prefer a stable growth company, go with Microsoft; if you want to tap into high-growth potential, consider Tesla.\n",
      "\n",
      "⚠️ Risk Advisor:\n",
      " ### Risk Evaluation of Investment in Microsoft (MSFT) vs. Tesla (TSLA)\n",
      "\n",
      "When evaluating the potential upsides of investing in Microsoft (MSFT) and Tesla (TSLA), it's crucial to also consider the associated risks and how to mitigate them. \n",
      "\n",
      "#### Microsoft (MSFT) Risks and Mitigation Strategies\n",
      "\n",
      "1. **Market Saturation**: While Microsoft benefits from a diversified portfolio, certain segments, such as software, may face saturation. \n",
      "   - **Mitigation**: Investing gradually (dollar-cost averaging) can allow for entry during market corrections.\n",
      "\n",
      "2. **Regulatory Risks**: As a large tech company, Microsoft faces scrutiny from regulators concerning antitrust issues and data privacy.\n",
      "   - **Mitigation**: Staying informed about regulatory developments and being prepared for potential fines or operational adjustments.\n",
      "\n",
      "3. **Cybersecurity Threats**: With increasing reliance on cloud services, Microsoft faces ongoing cybersecurity threats that could affect operations and reputation.\n",
      "   - **Mitigation**: Engaging with companies offering cybersecurity solutions or investing in funds that include cybersecurity as a focus.\n",
      "\n",
      "#### Tesla (TSLA) Risks and Mitigation Strategies\n",
      "\n",
      "1. **High Volatility**: Tesla’s stock is known for its volatility, influenced by broader market trends, production challenges, and regulatory changes.\n",
      "   - **Mitigation**: Limiting the proportion of your portfolio allocated to Tesla can help manage risk while still allowing for participation in its growth potential.\n",
      "\n",
      "2. **Execution Risks**: Tesla's ambitious growth targets could fall short due to production bottlenecks or supply chain disruptions.\n",
      "   - **Mitigation**: Consider a diversified investment strategy that includes other technology or automotive stocks in addition to Tesla.\n",
      "\n",
      "3. **Increased Competition**: As the EV market grows, Tesla faces increasing competition from established automakers and new entrants.\n",
      "   - **Mitigation**: Analyze competitors' performances and technological advances, diversifying investments into other innovative companies within the EV ecosystem.\n",
      "\n",
      "#### Conclusion and Recommendation\n",
      "\n",
      "Both Microsoft and Tesla present significant investment opportunities, yet they each carry distinct risks:\n",
      "\n",
      "- **If your investment philosophy prioritizes stability, consistent growth, and dividends**, Microsoft is the better choice. Its diversified revenue streams and solid track record provide a cushion against market volatility.\n",
      "  \n",
      "- **If you are willing to accept higher risk for the potential of substantial returns**, Tesla offers exciting growth prospects, especially in the rapidly evolving EV market, but one should be prepared for inherent volatility.\n",
      "\n",
      "**Overall Recommendation**: A balanced approach would be prudent. Consider investing in Microsoft for stability and income generation while allocating a smaller portion of your portfolio to Tesla for growth potential. This strategy can help mitigate risks while allowing you to benefit from both companies' strengths.\n"
     ]
    }
   ],
   "source": [
    "from langchain.schema import SystemMessage, HumanMessage, AIMessage\n",
    "from langchain.chains import LLMChain\n",
    "from langchain.prompts import PromptTemplate\n",
    "\n",
    "# Load LLM\n",
    "llm = ChatOpenAI(model=LLM_MODEL, temperature=LLM_TEMPERATURE)\n",
    "\n",
    "# Agent Prompts\n",
    "client_prompt = PromptTemplate.from_template(\n",
    "    \"You are a Client Interface agent. A user has asked the following question:\\n{user_query}\\n\"\n",
    "    \"Rephrase it clearly for a financial analyst.\"\n",
    ")\n",
    "analyst_prompt = PromptTemplate.from_template(\n",
    "    \"You are a Financial Analyst. The client asked: {client_rephrased_query}\\n\"\n",
    "    \"Give clear investment advice. Do not assess risk.\"\n",
    ")\n",
    "risk_prompt = PromptTemplate.from_template(\n",
    "    \"You are a Risk Advisor. The analyst has recommended:\\n{analyst_advice}\\n\"\n",
    "    \"Evaluate this advice from a risk perspective. Offer any cautions and ways to reduce risk.\"\n",
    ")\n",
    "\n",
    "# Define Chains\n",
    "client_chain = LLMChain(llm=llm, prompt=client_prompt)\n",
    "analyst_chain = LLMChain(llm=llm, prompt=analyst_prompt)\n",
    "risk_chain = LLMChain(llm=llm, prompt=risk_prompt)\n",
    "\n",
    "# Simulate user question\n",
    "user_query = \"I'm 35 and have $50,000 saved. Should I invest in real estate or index funds?\"\n",
    "\n",
    "# Step 1: Client Interface processes input\n",
    "client_rephrased_query = client_chain.run(user_query)\n",
    "print(\"\\n🤖 Client Interface:\\n\", client_rephrased_query)\n",
    "\n",
    "# Step 2: Financial Analyst responds\n",
    "analyst_advice = analyst_chain.run(client_rephrased_query)\n",
    "print(\"\\n📈 Financial Analyst:\\n\", analyst_advice)\n",
    "\n",
    "# Step 3: Risk Advisor evaluates\n",
    "risk_evaluation = risk_chain.run(analyst_advice=analyst_advice)\n",
    "print(\"\\n⚠️ Risk Advisor:\\n\", risk_evaluation)"
   ]
  }
 ],
 "metadata": {
  "kernelspec": {
   "display_name": "financial-advisor",
   "language": "python",
   "name": "python3"
  },
  "language_info": {
   "codemirror_mode": {
    "name": "ipython",
    "version": 3
   },
   "file_extension": ".py",
   "mimetype": "text/x-python",
   "name": "python",
   "nbconvert_exporter": "python",
   "pygments_lexer": "ipython3",
   "version": "3.12.9"
  }
 },
 "nbformat": 4,
 "nbformat_minor": 2
}
